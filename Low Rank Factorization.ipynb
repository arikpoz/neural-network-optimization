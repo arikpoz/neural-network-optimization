{
 "cells": [
  {
   "cell_type": "markdown",
   "id": "22bb942b",
   "metadata": {},
   "source": [
    "## Basic Setup"
   ]
  },
  {
   "cell_type": "code",
   "execution_count": null,
   "id": "e81c85c1",
   "metadata": {},
   "outputs": [
    {
     "ename": "ModuleNotFoundError",
     "evalue": "No module named 'torch'",
     "output_type": "error",
     "traceback": [
      "\u001b[31m---------------------------------------------------------------------------\u001b[39m",
      "\u001b[31mModuleNotFoundError\u001b[39m                       Traceback (most recent call last)",
      "\u001b[36mCell\u001b[39m\u001b[36m \u001b[39m\u001b[32mIn[1]\u001b[39m\u001b[32m, line 1\u001b[39m\n\u001b[32m----> \u001b[39m\u001b[32m1\u001b[39m \u001b[38;5;28;01mimport\u001b[39;00m\u001b[38;5;250m \u001b[39m\u001b[34;01mtorch\u001b[39;00m\n\u001b[32m      2\u001b[39m \u001b[38;5;28;01mimport\u001b[39;00m\u001b[38;5;250m \u001b[39m\u001b[34;01mtorch\u001b[39;00m\u001b[34;01m.\u001b[39;00m\u001b[34;01mnn\u001b[39;00m\u001b[38;5;250m \u001b[39m\u001b[38;5;28;01mas\u001b[39;00m\u001b[38;5;250m \u001b[39m\u001b[34;01mnn\u001b[39;00m\n\u001b[32m      3\u001b[39m \u001b[38;5;28;01mimport\u001b[39;00m\u001b[38;5;250m \u001b[39m\u001b[34;01mtorchvision\u001b[39;00m\u001b[34;01m.\u001b[39;00m\u001b[34;01mtransforms\u001b[39;00m\u001b[38;5;250m \u001b[39m\u001b[38;5;28;01mas\u001b[39;00m\u001b[38;5;250m \u001b[39m\u001b[34;01mtransforms\u001b[39;00m\n",
      "\u001b[31mModuleNotFoundError\u001b[39m: No module named 'torch'"
     ]
    }
   ],
   "source": [
    "import torch\n",
    "import torch.nn as nn\n",
    "import torchvision.transforms as transforms\n",
    "from torchvision.datasets import CIFAR10\n",
    "from torchvision.models import resnet50\n",
    "from torch.utils.data import DataLoader\n",
    "import time\n",
    "import os\n",
    "\n",
    "# Set device\n",
    "device = torch.device(\"cuda\" if torch.cuda.is_available() else \"cpu\")\n",
    "print(f\"Using device: {device}\")"
   ]
  },
  {
   "cell_type": "code",
   "execution_count": null,
   "id": "d6a74380",
   "metadata": {},
   "outputs": [],
   "source": [
    "# Load pretrained ResNet50 and adjust for CIFAR-10\n",
    "model = resnet50(pretrained=True)\n",
    "model.fc = nn.Linear(model.fc.in_features, 10)  # Adjust final layer for CIFAR-10\n",
    "model = model.to(device)"
   ]
  },
  {
   "cell_type": "code",
   "execution_count": null,
   "id": "6319037c",
   "metadata": {},
   "outputs": [],
   "source": [
    "# Fine-tune on CIFAR-10 train set\n",
    "transform_train = transforms.Compose([\n",
    "    transforms.RandomCrop(32, padding=4),\n",
    "    transforms.RandomHorizontalFlip(),\n",
    "    transforms.ToTensor()\n",
    "])\n",
    "transform_test = transforms.Compose([\n",
    "    transforms.ToTensor()\n",
    "])\n",
    "\n",
    "train_set = CIFAR10(root='./data', train=True, download=True, transform=transform_train)\n",
    "test_set = CIFAR10(root='./data', train=False, download=True, transform=transform_test)\n",
    "\n",
    "train_loader = DataLoader(train_set, batch_size=128, shuffle=True)\n",
    "test_loader = DataLoader(test_set, batch_size=128, shuffle=False)\n"
   ]
  },
  {
   "cell_type": "code",
   "execution_count": null,
   "id": "b2048962",
   "metadata": {},
   "outputs": [],
   "source": [
    "criterion = nn.CrossEntropyLoss()\n",
    "optimizer = torch.optim.SGD(model.parameters(), lr=0.01, momentum=0.9, weight_decay=5e-4)\n",
    "\n",
    "def train(model, epochs=10):\n",
    "    model.train()\n",
    "    for epoch in range(epochs):\n",
    "        running_loss = 0.0\n",
    "        for images, labels in train_loader:\n",
    "            images, labels = images.to(device), labels.to(device)\n",
    "            optimizer.zero_grad()\n",
    "            outputs = model(images)\n",
    "            loss = criterion(outputs, labels)\n",
    "            loss.backward()\n",
    "            optimizer.step()\n",
    "            running_loss += loss.item()\n",
    "        print(f\"Epoch {epoch+1}/{epochs}, Loss: {running_loss/len(train_loader):.4f}\")\n",
    "\n"
   ]
  },
  {
   "cell_type": "code",
   "execution_count": null,
   "id": "ed4a1309",
   "metadata": {},
   "outputs": [],
   "source": [
    "train(model, epochs=10)\n",
    "\n",
    "# Save the fine-tuned original model\n",
    "original_model = deepcopy(model)"
   ]
  },
  {
   "cell_type": "code",
   "execution_count": null,
   "id": "b2f139fe",
   "metadata": {},
   "outputs": [],
   "source": [
    "# Function to compress layers\n",
    "def compress_layer(layer, epsilon=0.10):\n",
    "    if isinstance(layer, nn.Linear):\n",
    "        W = layer.weight.data.cpu()\n",
    "        U, S, Vh = torch.linalg.svd(W, full_matrices=False)\n",
    "        energy = torch.cumsum(S**2, dim=0) / torch.sum(S**2)\n",
    "        rank = torch.searchsorted(energy, 1 - epsilon).item() + 1\n",
    "        if rank * (W.shape[0] + W.shape[1]) < W.numel():\n",
    "            U_r = U[:, :rank] @ torch.diag(S[:rank])\n",
    "            V_r = Vh[:rank, :]\n",
    "            compressed_layer = nn.Sequential(\n",
    "                nn.Linear(W.shape[1], rank, bias=False),\n",
    "                nn.Linear(rank, W.shape[0], bias=True)\n",
    "            )\n",
    "            compressed_layer[0].weight.data = V_r.to(device)\n",
    "            compressed_layer[1].weight.data = U_r.to(device)\n",
    "            compressed_layer[1].bias.data = layer.bias.data.to(device)\n",
    "            return compressed_layer\n",
    "    elif isinstance(layer, nn.Conv2d):\n",
    "        W = layer.weight.data.cpu()\n",
    "        OC, IC, kH, kW = W.shape\n",
    "        W_flat = W.view(OC, -1)\n",
    "        U, S, Vh = torch.linalg.svd(W_flat, full_matrices=False)\n",
    "        energy = torch.cumsum(S**2, dim=0) / torch.sum(S**2)\n",
    "        rank = torch.searchsorted(energy, 1 - epsilon).item() + 1\n",
    "        if rank * (IC * kH * kW + OC) < W.numel():\n",
    "            U_r = U[:, :rank] @ torch.diag(S[:rank])\n",
    "            V_r = Vh[:rank, :]\n",
    "            conv1 = nn.Conv2d(in_channels=IC, out_channels=rank, kernel_size=1, stride=1, padding=0, bias=False)\n",
    "            conv2 = nn.Conv2d(in_channels=rank, out_channels=OC, kernel_size=(kH, kW), stride=layer.stride, padding=layer.padding, bias=(layer.bias is not None))\n",
    "            conv1.weight.data = V_r.view(rank, IC, kH, kW).to(device)\n",
    "            conv2.weight.data = U_r.view(OC, rank, 1, 1).to(device)\n",
    "            if layer.bias is not None:\n",
    "                conv2.bias.data = layer.bias.data.to(device)\n",
    "            return nn.Sequential(conv1, conv2)\n",
    "    return layer"
   ]
  },
  {
   "cell_type": "code",
   "execution_count": null,
   "id": "dd8f3a0a",
   "metadata": {},
   "outputs": [],
   "source": [
    "# Compress the model\n",
    "for name, module in model.named_modules():\n",
    "    if isinstance(module, (nn.Linear, nn.Conv2d)):\n",
    "        parent, attr = name.rsplit('.', 1)\n",
    "        parent_module = model\n",
    "        for part in parent.split('.'):\n",
    "            parent_module = getattr(parent_module, part)\n",
    "        setattr(parent_module, attr, compress_layer(module, epsilon=0.10))\n",
    "\n",
    "# Save the compressed model before fine-tuning\n",
    "compressed_model = deepcopy(model)"
   ]
  },
  {
   "cell_type": "code",
   "execution_count": null,
   "id": "e392b7d4",
   "metadata": {},
   "outputs": [],
   "source": [
    "\n",
    "# Fine-tune the compressed model\n",
    "train(model, epochs=5)\n"
   ]
  },
  {
   "cell_type": "code",
   "execution_count": null,
   "id": "b7928c10",
   "metadata": {},
   "outputs": [],
   "source": [
    "# Evaluate models\n",
    "def evaluate(model):\n",
    "    model.eval()\n",
    "    correct = 0\n",
    "    total = 0\n",
    "    start_time = time.time()\n",
    "    with torch.no_grad():\n",
    "        for images, labels in test_loader:\n",
    "            images, labels = images.to(device), labels.to(device)\n",
    "            outputs = model(images)\n",
    "            _, predicted = outputs.max(1)\n",
    "            total += labels.size(0)\n",
    "            correct += (predicted == labels).sum().item()\n",
    "    end_time = time.time()\n",
    "    acc = correct / total\n",
    "    latency = end_time - start_time\n",
    "    return acc, latency\n",
    "\n",
    "# Measure size\n",
    "def get_size(model):\n",
    "    torch.save(model.state_dict(), \"temp.p\")\n",
    "    size = os.path.getsize(\"temp.p\") / 1e6\n",
    "    os.remove(\"temp.p\")\n",
    "    return size\n"
   ]
  },
  {
   "cell_type": "code",
   "execution_count": null,
   "id": "4c4743ba",
   "metadata": {},
   "outputs": [],
   "source": [
    "# Compare models\n",
    "acc_orig, latency_orig = evaluate(original_model)\n",
    "acc_comp, latency_comp = evaluate(compressed_model)\n",
    "acc_tuned_comp, latency_tuned_comp = evaluate(model)\n",
    "\n",
    "size_orig = get_size(original_model)\n",
    "size_comp = get_size(compressed_model)\n",
    "size_tuned_comp = get_size(model)\n",
    "\n",
    "print(f\"Original -> acc: {acc_orig:.4f}, latency: {latency_orig:.2f}s, size: {size_orig:.2f}MB\")\n",
    "print(f\"Compressed -> acc: {acc_comp:.4f}, latency: {latency_comp:.2f}s, size: {size_comp:.2f}MB\")\n",
    "print(f\"Tuned Compressed -> acc: {acc_tuned_comp:.4f}, latency: {latency_tuned_comp:.2f}s, size: {size_tuned_comp:.2f}MB\")"
   ]
  }
 ],
 "metadata": {
  "kernelspec": {
   "display_name": "Python 3",
   "language": "python",
   "name": "python3"
  },
  "language_info": {
   "codemirror_mode": {
    "name": "ipython",
    "version": 3
   },
   "file_extension": ".py",
   "mimetype": "text/x-python",
   "name": "python",
   "nbconvert_exporter": "python",
   "pygments_lexer": "ipython3",
   "version": "3.11.9"
  }
 },
 "nbformat": 4,
 "nbformat_minor": 5
}
