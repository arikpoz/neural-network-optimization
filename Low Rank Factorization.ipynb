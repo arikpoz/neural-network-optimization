{
 "cells": [
  {
   "cell_type": "markdown",
   "id": "22bb942b",
   "metadata": {},
   "source": [
    "## Basic Setup"
   ]
  },
  {
   "cell_type": "code",
   "execution_count": null,
   "id": "309ac085",
   "metadata": {},
   "outputs": [
    {
     "name": "stdout",
     "output_type": "stream",
     "text": [
      "Requirement already satisfied: tqdm in /usr/local/lib/python3.11/dist-packages (4.67.1)\n",
      "\u001b[33mWARNING: Running pip as the 'root' user can result in broken permissions and conflicting behaviour with the system package manager, possibly rendering your system unusable. It is recommended to use a virtual environment instead: https://pip.pypa.io/warnings/venv. Use the --root-user-action option if you know what you are doing and want to suppress this warning.\u001b[0m\u001b[33m\n",
      "\u001b[0m\n",
      "\u001b[1m[\u001b[0m\u001b[34;49mnotice\u001b[0m\u001b[1;39;49m]\u001b[0m\u001b[39;49m A new release of pip is available: \u001b[0m\u001b[31;49m25.0.1\u001b[0m\u001b[39;49m -> \u001b[0m\u001b[32;49m25.1\u001b[0m\n",
      "\u001b[1m[\u001b[0m\u001b[34;49mnotice\u001b[0m\u001b[1;39;49m]\u001b[0m\u001b[39;49m To update, run: \u001b[0m\u001b[32;49mpython -m pip install --upgrade pip\u001b[0m\n"
     ]
    }
   ],
   "source": [
    "# source for utility functions: get_device, get_cifar10_loaders, get_resnet50_for_cifar10\n",
    "#                               train, evaluate, estimate_latency, get_size\n",
    "%run utils.ipynb\n"
   ]
  },
  {
   "cell_type": "code",
   "execution_count": null,
   "id": "6319037c",
   "metadata": {},
   "outputs": [
    {
     "name": "stdout",
     "output_type": "stream",
     "text": [
      "Full train set size: 50000\n",
      "Train ratio: 0.9\n",
      "Train samples: 45000\n",
      "Validation samples: 5000\n",
      "Test samples: 10000\n",
      "Number of training batches: 352\n",
      "Number of validation batches: 40\n",
      "Number of test batches: 79\n"
     ]
    }
   ],
   "source": [
    "import torch\n",
    "import torch.nn as nn\n",
    "from copy import deepcopy\n",
    "\n",
    "# get device\n",
    "device = get_device()\n",
    "\n",
    "# get the CIFAR-10 data loaders\n",
    "train_loader, val_loader, test_loader = get_cifar10_loaders()\n",
    "\n",
    "# Get architecture for CIFAR-10 training\n",
    "model = get_resnet50_for_cifar10(device)"
   ]
  },
  {
   "cell_type": "markdown",
   "id": "ecaaa880-68cf-479c-aded-fdf83de0e643",
   "metadata": {},
   "source": [
    "## Train and Evaluate full model"
   ]
  },
  {
   "cell_type": "code",
   "execution_count": 9,
   "id": "ed4a1309",
   "metadata": {},
   "outputs": [
    {
     "name": "stdout",
     "output_type": "stream",
     "text": [
      "🔁 Resumed training from epoch 4\n"
     ]
    },
    {
     "name": "stderr",
     "output_type": "stream",
     "text": [
      "                                                               "
     ]
    },
    {
     "name": "stdout",
     "output_type": "stream",
     "text": [
      "Epoch   5 | Train Loss: 0.4172 | Acc: 0.8527\n",
      "          | Val   Loss: 0.6039 | Acc: 0.8130\n",
      "          | ✅ New best model saved to 'full_model_resnet50_best_model.pt'\n"
     ]
    },
    {
     "name": "stderr",
     "output_type": "stream",
     "text": [
      "                                                               "
     ]
    },
    {
     "name": "stdout",
     "output_type": "stream",
     "text": [
      "Epoch   6 | Train Loss: 0.3214 | Acc: 0.8864\n",
      "          | Val   Loss: 0.6077 | Acc: 0.8152\n",
      "          | No improvement for 1 epoch(s)\n"
     ]
    },
    {
     "name": "stderr",
     "output_type": "stream",
     "text": [
      "                                                               "
     ]
    },
    {
     "name": "stdout",
     "output_type": "stream",
     "text": [
      "Epoch   7 | Train Loss: 0.2445 | Acc: 0.9149\n",
      "          | Val   Loss: 0.6085 | Acc: 0.8206\n",
      "          | No improvement for 2 epoch(s)\n"
     ]
    },
    {
     "name": "stderr",
     "output_type": "stream",
     "text": [
      "                                                               "
     ]
    },
    {
     "name": "stdout",
     "output_type": "stream",
     "text": [
      "Epoch   8 | Train Loss: 0.1817 | Acc: 0.9368\n",
      "          | Val   Loss: 0.6411 | Acc: 0.8256\n",
      "          | No improvement for 3 epoch(s)\n"
     ]
    },
    {
     "name": "stderr",
     "output_type": "stream",
     "text": [
      "                                                               "
     ]
    },
    {
     "name": "stdout",
     "output_type": "stream",
     "text": [
      "Epoch   9 | Train Loss: 0.1383 | Acc: 0.9521\n",
      "          | Val   Loss: 0.6303 | Acc: 0.8366\n",
      "          | No improvement for 4 epoch(s)\n"
     ]
    },
    {
     "name": "stderr",
     "output_type": "stream",
     "text": [
      "                                                                "
     ]
    },
    {
     "name": "stdout",
     "output_type": "stream",
     "text": [
      "Epoch  10 | Train Loss: 0.0373 | Acc: 0.9880\n",
      "          | Val   Loss: 0.6574 | Acc: 0.8560\n",
      "          | No improvement for 5 epoch(s)\n",
      "🛑 Early stopping triggered after 5 epochs without improvement.\n",
      "Training complete.\n"
     ]
    }
   ],
   "source": [
    "optimizer = torch.optim.Adam(model.parameters(), lr=1e-3)\n",
    "criterion = torch.nn.CrossEntropyLoss()\n",
    "scheduler = torch.optim.lr_scheduler.ReduceLROnPlateau(optimizer, mode='min', patience=3, factor=0.5)\n",
    "\n",
    "train(\n",
    "    model,\n",
    "    train_loader,\n",
    "    val_loader,\n",
    "    optimizer,\n",
    "    criterion,\n",
    "    device,\n",
    "    epochs=50,\n",
    "    scheduler=scheduler,\n",
    "    grad_clip=1.0,\n",
    "    save_path=\"full_model_resnet50_best_model.pt\",\n",
    "    early_stopping_patience=5,\n",
    "    resume=True,\n",
    ")\n",
    "\n",
    "# Save the fine-tuned original model\n",
    "original_model = deepcopy(model)"
   ]
  },
  {
   "cell_type": "code",
   "execution_count": 26,
   "id": "b2f139fe",
   "metadata": {},
   "outputs": [],
   "source": [
    "# Function to compress layers\n",
    "def compress_layer(layer, epsilon=0.10):\n",
    "    \"\"\"\n",
    "    Compresses a layer using SVD if the compression is beneficial.\n",
    "    Args:\n",
    "        layer (nn.Module): The layer to compress.\n",
    "        epsilon (float): The energy threshold for compression.\n",
    "    Returns:\n",
    "        nn.Module: The compressed layer or the original layer if compression is not beneficial.\n",
    "    \"\"\"\n",
    "\n",
    "    # handle Linear layers\n",
    "    if isinstance(layer, nn.Linear):\n",
    "        # get linear layer weight matrix\n",
    "        W = layer.weight.data.cpu()\n",
    "        \n",
    "        # run SVD on flat weight matrix\n",
    "        U, S, Vh = torch.linalg.svd(W, full_matrices=False)\n",
    "\n",
    "        # find rank that capture the asked energy (1-epsilon)\n",
    "        energy = torch.cumsum(S**2, dim=0) / torch.sum(S**2)\n",
    "        rank = torch.searchsorted(energy, 1 - epsilon).item() + 1\n",
    "\n",
    "        # check that factorization actually reduces number of parameters\n",
    "        old_size = W.numel()\n",
    "        new_size = rank * (W.shape[0] + W.shape[1])\n",
    "        if new_size < old_size:\n",
    "            # define low rank factorization from SVD and rank\n",
    "            U_r = U[:, :rank] @ torch.diag(S[:rank])\n",
    "            V_r = Vh[:rank, :]\n",
    "\n",
    "            # define two linear layers to replace the original linear layer\n",
    "            compressed_layer = nn.Sequential(\n",
    "                nn.Linear(W.shape[1], rank, bias=False),\n",
    "                nn.Linear(rank, W.shape[0], bias=True)\n",
    "            )\n",
    "            compressed_layer[0].weight.data = V_r.to(device)\n",
    "            compressed_layer[1].weight.data = U_r.to(device)\n",
    "            compressed_layer[1].bias.data = layer.bias.data.to(device)\n",
    "            return compressed_layer, old_size, new_size\n",
    "        \n",
    "    # handle Conv2d layers\n",
    "    elif isinstance(layer, nn.Conv2d):\n",
    "        # get convolution weight 4d matrix, shape: [out_channels, in_channels, kH, kW]\n",
    "        W = layer.weight.data.cpu()  \n",
    "        OC, IC, kH, kW = W.shape\n",
    "\n",
    "        # reshape to 2d matrix, with shape: [OC, IC*kH*kW]\n",
    "        W_flat = W.view(OC, -1)\n",
    "\n",
    "        # run SVD on flat weight matrix        \n",
    "        U, S, Vh = torch.linalg.svd(W_flat, full_matrices=False)\n",
    "\n",
    "        # find rank that capture the asked energy (1-epsilon)\n",
    "        energy = torch.cumsum(S**2, dim=0) / torch.sum(S**2)\n",
    "        rank = torch.searchsorted(energy, 1 - epsilon).item() + 1\n",
    "\n",
    "        # check that factorization actually reduces number of parameters\n",
    "        old_size = W.numel()\n",
    "        new_size = rank * (IC * kH * kW + OC)\n",
    "        if new_size < old_size:\n",
    "            # define low rank factorization from SVD and rank\n",
    "            U_r = U[:, :rank] @ torch.diag(S[:rank])\n",
    "            V_r = Vh[:rank, :]\n",
    "\n",
    "            # define two convolutional layers to replace the original convolutional layer\n",
    "            conv1 = nn.Conv2d(\n",
    "                in_channels=IC,\n",
    "                out_channels=rank,\n",
    "                kernel_size=1,\n",
    "                stride=1,\n",
    "                padding=0,\n",
    "                bias=False\n",
    "            )\n",
    "            conv2 = nn.Conv2d(\n",
    "                in_channels=rank,\n",
    "                out_channels=OC,\n",
    "                kernel_size=(kH, kW),\n",
    "                stride=layer.stride,\n",
    "                padding=layer.padding,\n",
    "                bias=(layer.bias is not None)\n",
    "            )\n",
    "            conv1.weight.data = V_r.view(rank, IC, kH, kW).to(device)\n",
    "            conv2.weight.data = U_r.view(OC, rank, 1, 1).to(device)\n",
    "            if layer.bias is not None:\n",
    "                conv2.bias.data = layer.bias.data.to(device)\n",
    "            return nn.Sequential(conv1, conv2), old_size, new_size\n",
    "\n",
    "    return layer, 0, 0  # return the original layer if compression is not beneficial"
   ]
  },
  {
   "cell_type": "code",
   "execution_count": 27,
   "id": "dd8f3a0a",
   "metadata": {},
   "outputs": [],
   "source": [
    "def compress_model(model, epsilon=0.50):\n",
    "    \"\"\"\n",
    "    Compresses the given model by applying SVD-based compression to Linear and Conv2d layers.\n",
    "    \n",
    "    Args:\n",
    "        model (nn.Module): The model to compress.\n",
    "        epsilon (float): The energy threshold for compression.\n",
    "    \n",
    "    Returns:\n",
    "        nn.Module: The compressed model.\n",
    "    \"\"\"\n",
    "   \n",
    "    compressed_model = deepcopy(model)  # Create a copy of the input model\n",
    "\n",
    "    total_old_size = 0\n",
    "    total_new_size = 0\n",
    "\n",
    "    for name, module in compressed_model.named_modules():\n",
    "        if isinstance(module, (nn.Linear, nn.Conv2d)):\n",
    "            if '.' in name:  # Check if the module has a parent\n",
    "                parent, attr = name.rsplit('.', 1)\n",
    "                parent_module = compressed_model\n",
    "                for part in parent.split('.'):\n",
    "                    parent_module = getattr(parent_module, part)\n",
    "            else:  # Handle top-level modules\n",
    "                parent_module = compressed_model\n",
    "                attr = name\n",
    "            new_layer, old_size, new_size = compress_layer(module, epsilon)\n",
    "            total_old_size += old_size\n",
    "            total_new_size += new_size\n",
    "            setattr(parent_module, attr, new_layer)\n",
    "    \n",
    "    return compressed_model, total_old_size, total_new_size"
   ]
  },
  {
   "cell_type": "code",
   "execution_count": 29,
   "id": "e392b7d4",
   "metadata": {},
   "outputs": [
    {
     "name": "stderr",
     "output_type": "stream",
     "text": [
      "Evaluating: 100%|██████████| 79/79 [00:06<00:00, 11.57batch/s]\n",
      "Measuring latency: 100%|██████████| 50/50 [00:03<00:00, 12.74it/s]\n"
     ]
    },
    {
     "name": "stdout",
     "output_type": "stream",
     "text": [
      "Original -> acc: 84.63%, latency: 72.00 ± 0.06 ms, size: 94.38MB\n",
      "\n",
      "Compressing model with epsilon = 0.1...\n"
     ]
    },
    {
     "name": "stderr",
     "output_type": "stream",
     "text": [
      "Evaluating: 100%|██████████| 79/79 [00:07<00:00, 10.14batch/s]\n"
     ]
    },
    {
     "name": "stdout",
     "output_type": "stream",
     "text": [
      "Old size: 23463616, New size: 17327424, Parameter count reduction: 6136192\n",
      "Compressed -> acc before tuning: 34.17%\n"
     ]
    },
    {
     "name": "stderr",
     "output_type": "stream",
     "text": [
      "                                                               "
     ]
    },
    {
     "name": "stdout",
     "output_type": "stream",
     "text": [
      "Epoch   1 | Train Loss: 0.4461 | Acc: 0.8448\n",
      "          | Val   Loss: 0.8771 | Acc: 0.7516\n",
      "          | ✅ New best model saved to 'compressed_model_epsilon_0.1_best_model.pt'\n"
     ]
    },
    {
     "name": "stderr",
     "output_type": "stream",
     "text": [
      "                                                               "
     ]
    },
    {
     "name": "stdout",
     "output_type": "stream",
     "text": [
      "Epoch   2 | Train Loss: 0.3322 | Acc: 0.8840\n",
      "          | Val   Loss: 0.9339 | Acc: 0.7312\n",
      "          | No improvement for 1 epoch(s)\n"
     ]
    },
    {
     "name": "stderr",
     "output_type": "stream",
     "text": [
      "                                                               "
     ]
    },
    {
     "name": "stdout",
     "output_type": "stream",
     "text": [
      "Epoch   3 | Train Loss: 0.2629 | Acc: 0.9067\n",
      "          | Val   Loss: 0.8698 | Acc: 0.7678\n",
      "          | ✅ New best model saved to 'compressed_model_epsilon_0.1_best_model.pt'\n"
     ]
    },
    {
     "name": "stderr",
     "output_type": "stream",
     "text": [
      "                                                               "
     ]
    },
    {
     "name": "stdout",
     "output_type": "stream",
     "text": [
      "Epoch   4 | Train Loss: 0.2174 | Acc: 0.9227\n",
      "          | Val   Loss: 0.7878 | Acc: 0.7864\n",
      "          | ✅ New best model saved to 'compressed_model_epsilon_0.1_best_model.pt'\n"
     ]
    },
    {
     "name": "stderr",
     "output_type": "stream",
     "text": [
      "                                                               "
     ]
    },
    {
     "name": "stdout",
     "output_type": "stream",
     "text": [
      "Epoch   5 | Train Loss: 0.1782 | Acc: 0.9371\n",
      "          | Val   Loss: 0.7534 | Acc: 0.8180\n",
      "          | ✅ New best model saved to 'compressed_model_epsilon_0.1_best_model.pt'\n"
     ]
    },
    {
     "name": "stderr",
     "output_type": "stream",
     "text": [
      "                                                               "
     ]
    },
    {
     "name": "stdout",
     "output_type": "stream",
     "text": [
      "Epoch   6 | Train Loss: 0.1542 | Acc: 0.9458\n",
      "          | Val   Loss: 0.6098 | Acc: 0.8380\n",
      "          | ✅ New best model saved to 'compressed_model_epsilon_0.1_best_model.pt'\n"
     ]
    },
    {
     "name": "stderr",
     "output_type": "stream",
     "text": [
      "                                                               "
     ]
    },
    {
     "name": "stdout",
     "output_type": "stream",
     "text": [
      "Epoch   7 | Train Loss: 0.1343 | Acc: 0.9526\n",
      "          | Val   Loss: 0.6638 | Acc: 0.8276\n",
      "          | No improvement for 1 epoch(s)\n"
     ]
    },
    {
     "name": "stderr",
     "output_type": "stream",
     "text": [
      "                                                               "
     ]
    },
    {
     "name": "stdout",
     "output_type": "stream",
     "text": [
      "Epoch   8 | Train Loss: 0.1170 | Acc: 0.9596\n",
      "          | Val   Loss: 0.7998 | Acc: 0.8248\n",
      "          | No improvement for 2 epoch(s)\n"
     ]
    },
    {
     "name": "stderr",
     "output_type": "stream",
     "text": [
      "                                                               "
     ]
    },
    {
     "name": "stdout",
     "output_type": "stream",
     "text": [
      "Epoch   9 | Train Loss: 0.1061 | Acc: 0.9630\n",
      "          | Val   Loss: 0.8311 | Acc: 0.8176\n",
      "          | No improvement for 3 epoch(s)\n",
      "🛑 Early stopping triggered after 3 epochs without improvement.\n",
      "Training complete.\n"
     ]
    },
    {
     "name": "stderr",
     "output_type": "stream",
     "text": [
      "Evaluating: 100%|██████████| 79/79 [00:07<00:00, 10.13batch/s]\n",
      "Measuring latency: 100%|██████████| 50/50 [00:04<00:00, 11.24it/s]\n"
     ]
    },
    {
     "name": "stdout",
     "output_type": "stream",
     "text": [
      "Compressed -> acc after tuning: 80.78%, latency: 84.57 ± 0.09 ms, size: 69.86MB\n",
      "\n",
      "Compressing model with epsilon = 0.2...\n"
     ]
    },
    {
     "name": "stderr",
     "output_type": "stream",
     "text": [
      "Evaluating: 100%|██████████| 79/79 [00:07<00:00, 10.83batch/s]\n"
     ]
    },
    {
     "name": "stdout",
     "output_type": "stream",
     "text": [
      "Old size: 23467712, New size: 11210176, Parameter count reduction: 12257536\n",
      "Compressed -> acc before tuning: 32.09%\n"
     ]
    },
    {
     "name": "stderr",
     "output_type": "stream",
     "text": [
      "                                                               "
     ]
    },
    {
     "name": "stdout",
     "output_type": "stream",
     "text": [
      "Epoch   1 | Train Loss: 0.5005 | Acc: 0.8270\n",
      "          | Val   Loss: 1.1856 | Acc: 0.7060\n",
      "          | ✅ New best model saved to 'compressed_model_epsilon_0.2_best_model.pt'\n"
     ]
    },
    {
     "name": "stderr",
     "output_type": "stream",
     "text": [
      "                                                               "
     ]
    },
    {
     "name": "stdout",
     "output_type": "stream",
     "text": [
      "Epoch   2 | Train Loss: 0.3590 | Acc: 0.8740\n",
      "          | Val   Loss: 0.8112 | Acc: 0.7510\n",
      "          | ✅ New best model saved to 'compressed_model_epsilon_0.2_best_model.pt'\n"
     ]
    },
    {
     "name": "stderr",
     "output_type": "stream",
     "text": [
      "                                                               "
     ]
    },
    {
     "name": "stdout",
     "output_type": "stream",
     "text": [
      "Epoch   3 | Train Loss: 0.2845 | Acc: 0.8992\n",
      "          | Val   Loss: 0.8876 | Acc: 0.7540\n",
      "          | No improvement for 1 epoch(s)\n"
     ]
    },
    {
     "name": "stderr",
     "output_type": "stream",
     "text": [
      "                                                               "
     ]
    },
    {
     "name": "stdout",
     "output_type": "stream",
     "text": [
      "Epoch   4 | Train Loss: 0.2337 | Acc: 0.9173\n",
      "          | Val   Loss: 0.6625 | Acc: 0.8162\n",
      "          | ✅ New best model saved to 'compressed_model_epsilon_0.2_best_model.pt'\n"
     ]
    },
    {
     "name": "stderr",
     "output_type": "stream",
     "text": [
      "                                                               "
     ]
    },
    {
     "name": "stdout",
     "output_type": "stream",
     "text": [
      "Epoch   5 | Train Loss: 0.1936 | Acc: 0.9324\n",
      "          | Val   Loss: 0.7539 | Acc: 0.8068\n",
      "          | No improvement for 1 epoch(s)\n"
     ]
    },
    {
     "name": "stderr",
     "output_type": "stream",
     "text": [
      "                                                               "
     ]
    },
    {
     "name": "stdout",
     "output_type": "stream",
     "text": [
      "Epoch   6 | Train Loss: 0.1604 | Acc: 0.9426\n",
      "          | Val   Loss: 0.8684 | Acc: 0.7918\n",
      "          | No improvement for 2 epoch(s)\n"
     ]
    },
    {
     "name": "stderr",
     "output_type": "stream",
     "text": [
      "                                                               "
     ]
    },
    {
     "name": "stdout",
     "output_type": "stream",
     "text": [
      "Epoch   7 | Train Loss: 0.1430 | Acc: 0.9496\n",
      "          | Val   Loss: 0.7463 | Acc: 0.8120\n",
      "          | No improvement for 3 epoch(s)\n",
      "🛑 Early stopping triggered after 3 epochs without improvement.\n",
      "Training complete.\n"
     ]
    },
    {
     "name": "stderr",
     "output_type": "stream",
     "text": [
      "Evaluating: 100%|██████████| 79/79 [00:07<00:00, 10.83batch/s]\n",
      "Measuring latency: 100%|██████████| 50/50 [00:04<00:00, 12.19it/s]\n"
     ]
    },
    {
     "name": "stdout",
     "output_type": "stream",
     "text": [
      "Compressed -> acc after tuning: 80.18%, latency: 78.12 ± 0.09 ms, size: 45.37MB\n",
      "\n",
      "Compressing model with epsilon = 0.3...\n"
     ]
    },
    {
     "name": "stderr",
     "output_type": "stream",
     "text": [
      "Evaluating: 100%|██████████| 79/79 [00:06<00:00, 11.55batch/s]\n"
     ]
    },
    {
     "name": "stdout",
     "output_type": "stream",
     "text": [
      "Old size: 23467712, New size: 7052645, Parameter count reduction: 16415067\n",
      "Compressed -> acc before tuning: 27.84%\n"
     ]
    },
    {
     "name": "stderr",
     "output_type": "stream",
     "text": [
      "                                                               "
     ]
    },
    {
     "name": "stdout",
     "output_type": "stream",
     "text": [
      "Epoch   1 | Train Loss: 0.5560 | Acc: 0.8097\n",
      "          | Val   Loss: 0.7305 | Acc: 0.7640\n",
      "          | ✅ New best model saved to 'compressed_model_epsilon_0.3_best_model.pt'\n"
     ]
    },
    {
     "name": "stderr",
     "output_type": "stream",
     "text": [
      "                                                               "
     ]
    },
    {
     "name": "stdout",
     "output_type": "stream",
     "text": [
      "Epoch   2 | Train Loss: 0.3905 | Acc: 0.8650\n",
      "          | Val   Loss: 0.6281 | Acc: 0.8052\n",
      "          | ✅ New best model saved to 'compressed_model_epsilon_0.3_best_model.pt'\n"
     ]
    },
    {
     "name": "stderr",
     "output_type": "stream",
     "text": [
      "                                                               "
     ]
    },
    {
     "name": "stdout",
     "output_type": "stream",
     "text": [
      "Epoch   3 | Train Loss: 0.3089 | Acc: 0.8924\n",
      "          | Val   Loss: 0.6043 | Acc: 0.8246\n",
      "          | ✅ New best model saved to 'compressed_model_epsilon_0.3_best_model.pt'\n"
     ]
    },
    {
     "name": "stderr",
     "output_type": "stream",
     "text": [
      "                                                               "
     ]
    },
    {
     "name": "stdout",
     "output_type": "stream",
     "text": [
      "Epoch   4 | Train Loss: 0.2500 | Acc: 0.9128\n",
      "          | Val   Loss: 0.7441 | Acc: 0.7994\n",
      "          | No improvement for 1 epoch(s)\n"
     ]
    },
    {
     "name": "stderr",
     "output_type": "stream",
     "text": [
      "                                                               "
     ]
    },
    {
     "name": "stdout",
     "output_type": "stream",
     "text": [
      "Epoch   5 | Train Loss: 0.2092 | Acc: 0.9258\n",
      "          | Val   Loss: 0.6862 | Acc: 0.8172\n",
      "          | No improvement for 2 epoch(s)\n"
     ]
    },
    {
     "name": "stderr",
     "output_type": "stream",
     "text": [
      "                                                               "
     ]
    },
    {
     "name": "stdout",
     "output_type": "stream",
     "text": [
      "Epoch   6 | Train Loss: 0.1747 | Acc: 0.9390\n",
      "          | Val   Loss: 0.6719 | Acc: 0.8220\n",
      "          | No improvement for 3 epoch(s)\n",
      "🛑 Early stopping triggered after 3 epochs without improvement.\n",
      "Training complete.\n"
     ]
    },
    {
     "name": "stderr",
     "output_type": "stream",
     "text": [
      "Evaluating: 100%|██████████| 79/79 [00:06<00:00, 11.81batch/s]\n",
      "Measuring latency: 100%|██████████| 50/50 [00:03<00:00, 13.49it/s]\n"
     ]
    },
    {
     "name": "stdout",
     "output_type": "stream",
     "text": [
      "Compressed -> acc after tuning: 81.17%, latency: 70.42 ± 0.08 ms, size: 28.74MB\n",
      "\n",
      "Compressing model with epsilon = 0.4...\n"
     ]
    },
    {
     "name": "stderr",
     "output_type": "stream",
     "text": [
      "Evaluating: 100%|██████████| 79/79 [00:06<00:00, 11.88batch/s]\n"
     ]
    },
    {
     "name": "stdout",
     "output_type": "stream",
     "text": [
      "Old size: 23467712, New size: 4350693, Parameter count reduction: 19117019\n",
      "Compressed -> acc before tuning: 23.57%\n"
     ]
    },
    {
     "name": "stderr",
     "output_type": "stream",
     "text": [
      "                                                               "
     ]
    },
    {
     "name": "stdout",
     "output_type": "stream",
     "text": [
      "Epoch   1 | Train Loss: 0.6129 | Acc: 0.7937\n",
      "          | Val   Loss: 0.8399 | Acc: 0.7372\n",
      "          | ✅ New best model saved to 'compressed_model_epsilon_0.4_best_model.pt'\n"
     ]
    },
    {
     "name": "stderr",
     "output_type": "stream",
     "text": [
      "                                                               "
     ]
    },
    {
     "name": "stdout",
     "output_type": "stream",
     "text": [
      "Epoch   2 | Train Loss: 0.4266 | Acc: 0.8524\n",
      "          | Val   Loss: 0.6459 | Acc: 0.7890\n",
      "          | ✅ New best model saved to 'compressed_model_epsilon_0.4_best_model.pt'\n"
     ]
    },
    {
     "name": "stderr",
     "output_type": "stream",
     "text": [
      "                                                               "
     ]
    },
    {
     "name": "stdout",
     "output_type": "stream",
     "text": [
      "Epoch   3 | Train Loss: 0.3436 | Acc: 0.8819\n",
      "          | Val   Loss: 0.5853 | Acc: 0.8182\n",
      "          | ✅ New best model saved to 'compressed_model_epsilon_0.4_best_model.pt'\n"
     ]
    },
    {
     "name": "stderr",
     "output_type": "stream",
     "text": [
      "                                                               "
     ]
    },
    {
     "name": "stdout",
     "output_type": "stream",
     "text": [
      "Epoch   4 | Train Loss: 0.2736 | Acc: 0.9048\n",
      "          | Val   Loss: 0.6692 | Acc: 0.8118\n",
      "          | No improvement for 1 epoch(s)\n"
     ]
    },
    {
     "name": "stderr",
     "output_type": "stream",
     "text": [
      "                                                               "
     ]
    },
    {
     "name": "stdout",
     "output_type": "stream",
     "text": [
      "Epoch   5 | Train Loss: 0.2305 | Acc: 0.9197\n",
      "          | Val   Loss: 0.5705 | Acc: 0.8338\n",
      "          | ✅ New best model saved to 'compressed_model_epsilon_0.4_best_model.pt'\n"
     ]
    },
    {
     "name": "stderr",
     "output_type": "stream",
     "text": [
      "                                                               "
     ]
    },
    {
     "name": "stdout",
     "output_type": "stream",
     "text": [
      "Epoch   6 | Train Loss: 0.1989 | Acc: 0.9312\n",
      "          | Val   Loss: 1.0855 | Acc: 0.7498\n",
      "          | No improvement for 1 epoch(s)\n"
     ]
    },
    {
     "name": "stderr",
     "output_type": "stream",
     "text": [
      "                                                               "
     ]
    },
    {
     "name": "stdout",
     "output_type": "stream",
     "text": [
      "Epoch   7 | Train Loss: 0.1701 | Acc: 0.9408\n",
      "          | Val   Loss: 0.6112 | Acc: 0.8348\n",
      "          | No improvement for 2 epoch(s)\n"
     ]
    },
    {
     "name": "stderr",
     "output_type": "stream",
     "text": [
      "                                                               "
     ]
    },
    {
     "name": "stdout",
     "output_type": "stream",
     "text": [
      "Epoch   8 | Train Loss: 0.1438 | Acc: 0.9506\n",
      "          | Val   Loss: 0.8148 | Acc: 0.8114\n",
      "          | No improvement for 3 epoch(s)\n",
      "🛑 Early stopping triggered after 3 epochs without improvement.\n",
      "Training complete.\n"
     ]
    },
    {
     "name": "stderr",
     "output_type": "stream",
     "text": [
      "Evaluating: 100%|██████████| 79/79 [00:06<00:00, 11.99batch/s]\n",
      "Measuring latency: 100%|██████████| 50/50 [00:03<00:00, 13.81it/s]\n"
     ]
    },
    {
     "name": "stdout",
     "output_type": "stream",
     "text": [
      "Compressed -> acc after tuning: 79.75%, latency: 68.78 ± 0.06 ms, size: 17.93MB\n",
      "\n",
      "Compressing model with epsilon = 0.5...\n"
     ]
    },
    {
     "name": "stderr",
     "output_type": "stream",
     "text": [
      "Evaluating: 100%|██████████| 79/79 [00:06<00:00, 12.32batch/s]\n"
     ]
    },
    {
     "name": "stdout",
     "output_type": "stream",
     "text": [
      "Old size: 23467712, New size: 2651109, Parameter count reduction: 20816603\n",
      "Compressed -> acc before tuning: 14.76%\n"
     ]
    },
    {
     "name": "stderr",
     "output_type": "stream",
     "text": [
      "                                                               "
     ]
    },
    {
     "name": "stdout",
     "output_type": "stream",
     "text": [
      "Epoch   1 | Train Loss: 0.7369 | Acc: 0.7494\n",
      "          | Val   Loss: 0.8405 | Acc: 0.7260\n",
      "          | ✅ New best model saved to 'compressed_model_epsilon_0.5_best_model.pt'\n"
     ]
    },
    {
     "name": "stderr",
     "output_type": "stream",
     "text": [
      "                                                               "
     ]
    },
    {
     "name": "stdout",
     "output_type": "stream",
     "text": [
      "Epoch   2 | Train Loss: 0.5223 | Acc: 0.8220\n",
      "          | Val   Loss: 0.6998 | Acc: 0.7806\n",
      "          | ✅ New best model saved to 'compressed_model_epsilon_0.5_best_model.pt'\n"
     ]
    },
    {
     "name": "stderr",
     "output_type": "stream",
     "text": [
      "                                                               "
     ]
    },
    {
     "name": "stdout",
     "output_type": "stream",
     "text": [
      "Epoch   3 | Train Loss: 0.4289 | Acc: 0.8539\n",
      "          | Val   Loss: 0.7971 | Acc: 0.7670\n",
      "          | No improvement for 1 epoch(s)\n"
     ]
    },
    {
     "name": "stderr",
     "output_type": "stream",
     "text": [
      "                                                               "
     ]
    },
    {
     "name": "stdout",
     "output_type": "stream",
     "text": [
      "Epoch   4 | Train Loss: 0.3634 | Acc: 0.8802\n",
      "          | Val   Loss: 0.7921 | Acc: 0.7742\n",
      "          | No improvement for 2 epoch(s)\n"
     ]
    },
    {
     "name": "stderr",
     "output_type": "stream",
     "text": [
      "                                                               "
     ]
    },
    {
     "name": "stdout",
     "output_type": "stream",
     "text": [
      "Epoch   5 | Train Loss: 0.3036 | Acc: 0.8962\n",
      "          | Val   Loss: 0.7270 | Acc: 0.8006\n",
      "          | No improvement for 3 epoch(s)\n",
      "🛑 Early stopping triggered after 3 epochs without improvement.\n",
      "Training complete.\n"
     ]
    },
    {
     "name": "stderr",
     "output_type": "stream",
     "text": [
      "Evaluating: 100%|██████████| 79/79 [00:06<00:00, 12.50batch/s]\n",
      "Measuring latency: 100%|██████████| 50/50 [00:03<00:00, 14.47it/s]\n"
     ]
    },
    {
     "name": "stdout",
     "output_type": "stream",
     "text": [
      "Compressed -> acc after tuning: 78.98%, latency: 65.52 ± 0.03 ms, size: 11.14MB\n",
      "\n",
      "Compressing model with epsilon = 0.6...\n"
     ]
    },
    {
     "name": "stderr",
     "output_type": "stream",
     "text": [
      "Evaluating: 100%|██████████| 79/79 [00:06<00:00, 12.35batch/s]\n"
     ]
    },
    {
     "name": "stdout",
     "output_type": "stream",
     "text": [
      "Old size: 23467712, New size: 1591744, Parameter count reduction: 21875968\n",
      "Compressed -> acc before tuning: 11.10%\n"
     ]
    },
    {
     "name": "stderr",
     "output_type": "stream",
     "text": [
      "                                                               "
     ]
    },
    {
     "name": "stdout",
     "output_type": "stream",
     "text": [
      "Epoch   1 | Train Loss: 0.9198 | Acc: 0.6764\n",
      "          | Val   Loss: 0.9328 | Acc: 0.6856\n",
      "          | ✅ New best model saved to 'compressed_model_epsilon_0.6_best_model.pt'\n"
     ]
    },
    {
     "name": "stderr",
     "output_type": "stream",
     "text": [
      "                                                               "
     ]
    },
    {
     "name": "stdout",
     "output_type": "stream",
     "text": [
      "Epoch   2 | Train Loss: 0.6555 | Acc: 0.7787\n",
      "          | Val   Loss: 0.8928 | Acc: 0.7176\n",
      "          | ✅ New best model saved to 'compressed_model_epsilon_0.6_best_model.pt'\n"
     ]
    },
    {
     "name": "stderr",
     "output_type": "stream",
     "text": [
      "                                                               "
     ]
    },
    {
     "name": "stdout",
     "output_type": "stream",
     "text": [
      "Epoch   3 | Train Loss: 0.5443 | Acc: 0.8169\n",
      "          | Val   Loss: 0.6799 | Acc: 0.7898\n",
      "          | ✅ New best model saved to 'compressed_model_epsilon_0.6_best_model.pt'\n"
     ]
    },
    {
     "name": "stderr",
     "output_type": "stream",
     "text": [
      "                                                               "
     ]
    },
    {
     "name": "stdout",
     "output_type": "stream",
     "text": [
      "Epoch   4 | Train Loss: 0.4776 | Acc: 0.8407\n",
      "          | Val   Loss: 0.7771 | Acc: 0.7708\n",
      "          | No improvement for 1 epoch(s)\n"
     ]
    },
    {
     "name": "stderr",
     "output_type": "stream",
     "text": [
      "                                                               "
     ]
    },
    {
     "name": "stdout",
     "output_type": "stream",
     "text": [
      "Epoch   5 | Train Loss: 0.4127 | Acc: 0.8583\n",
      "          | Val   Loss: 0.6792 | Acc: 0.8066\n",
      "          | ✅ New best model saved to 'compressed_model_epsilon_0.6_best_model.pt'\n"
     ]
    },
    {
     "name": "stderr",
     "output_type": "stream",
     "text": [
      "                                                               "
     ]
    },
    {
     "name": "stdout",
     "output_type": "stream",
     "text": [
      "Epoch   6 | Train Loss: 0.3661 | Acc: 0.8745\n",
      "          | Val   Loss: 0.7140 | Acc: 0.8004\n",
      "          | No improvement for 1 epoch(s)\n"
     ]
    },
    {
     "name": "stderr",
     "output_type": "stream",
     "text": [
      "                                                               "
     ]
    },
    {
     "name": "stdout",
     "output_type": "stream",
     "text": [
      "Epoch   7 | Train Loss: 0.3264 | Acc: 0.8885\n",
      "          | Val   Loss: 0.6911 | Acc: 0.8106\n",
      "          | No improvement for 2 epoch(s)\n"
     ]
    },
    {
     "name": "stderr",
     "output_type": "stream",
     "text": [
      "                                                               "
     ]
    },
    {
     "name": "stdout",
     "output_type": "stream",
     "text": [
      "Epoch   8 | Train Loss: 0.2917 | Acc: 0.9009\n",
      "          | Val   Loss: 0.6338 | Acc: 0.8176\n",
      "          | ✅ New best model saved to 'compressed_model_epsilon_0.6_best_model.pt'\n"
     ]
    },
    {
     "name": "stderr",
     "output_type": "stream",
     "text": [
      "                                                               "
     ]
    },
    {
     "name": "stdout",
     "output_type": "stream",
     "text": [
      "Epoch   9 | Train Loss: 0.2628 | Acc: 0.9100\n",
      "          | Val   Loss: 0.7146 | Acc: 0.8018\n",
      "          | No improvement for 1 epoch(s)\n"
     ]
    },
    {
     "name": "stderr",
     "output_type": "stream",
     "text": [
      "                                                                "
     ]
    },
    {
     "name": "stdout",
     "output_type": "stream",
     "text": [
      "Epoch  10 | Train Loss: 0.2380 | Acc: 0.9192\n",
      "          | Val   Loss: 0.7504 | Acc: 0.8228\n",
      "          | No improvement for 2 epoch(s)\n"
     ]
    },
    {
     "name": "stderr",
     "output_type": "stream",
     "text": [
      "                                                                "
     ]
    },
    {
     "name": "stdout",
     "output_type": "stream",
     "text": [
      "Epoch  11 | Train Loss: 0.2097 | Acc: 0.9286\n",
      "          | Val   Loss: 0.7755 | Acc: 0.8248\n",
      "          | No improvement for 3 epoch(s)\n",
      "🛑 Early stopping triggered after 3 epochs without improvement.\n",
      "Training complete.\n"
     ]
    },
    {
     "name": "stderr",
     "output_type": "stream",
     "text": [
      "Evaluating: 100%|██████████| 79/79 [00:06<00:00, 12.61batch/s]\n",
      "Measuring latency: 100%|██████████| 50/50 [00:03<00:00, 14.59it/s]\n"
     ]
    },
    {
     "name": "stdout",
     "output_type": "stream",
     "text": [
      "Compressed -> acc after tuning: 81.14%, latency: 64.47 ± 0.05 ms, size: 6.90MB\n",
      "\n",
      "Compressing model with epsilon = 0.7...\n"
     ]
    },
    {
     "name": "stderr",
     "output_type": "stream",
     "text": [
      "Evaluating: 100%|██████████| 79/79 [00:06<00:00, 12.52batch/s]\n"
     ]
    },
    {
     "name": "stdout",
     "output_type": "stream",
     "text": [
      "Old size: 23467712, New size: 906688, Parameter count reduction: 22561024\n",
      "Compressed -> acc before tuning: 10.00%\n"
     ]
    },
    {
     "name": "stderr",
     "output_type": "stream",
     "text": [
      "                                                               "
     ]
    },
    {
     "name": "stdout",
     "output_type": "stream",
     "text": [
      "Epoch   1 | Train Loss: 1.3905 | Acc: 0.4367\n",
      "          | Val   Loss: 1.3247 | Acc: 0.4902\n",
      "          | ✅ New best model saved to 'compressed_model_epsilon_0.7_best_model.pt'\n"
     ]
    },
    {
     "name": "stderr",
     "output_type": "stream",
     "text": [
      "                                                               "
     ]
    },
    {
     "name": "stdout",
     "output_type": "stream",
     "text": [
      "Epoch   2 | Train Loss: 1.1162 | Acc: 0.6055\n",
      "          | Val   Loss: 1.4810 | Acc: 0.5576\n",
      "          | No improvement for 1 epoch(s)\n"
     ]
    },
    {
     "name": "stderr",
     "output_type": "stream",
     "text": [
      "                                                               "
     ]
    },
    {
     "name": "stdout",
     "output_type": "stream",
     "text": [
      "Epoch   3 | Train Loss: 0.9700 | Acc: 0.6760\n",
      "          | Val   Loss: 1.1312 | Acc: 0.6742\n",
      "          | ✅ New best model saved to 'compressed_model_epsilon_0.7_best_model.pt'\n"
     ]
    },
    {
     "name": "stderr",
     "output_type": "stream",
     "text": [
      "                                                               "
     ]
    },
    {
     "name": "stdout",
     "output_type": "stream",
     "text": [
      "Epoch   4 | Train Loss: 0.8738 | Acc: 0.7152\n",
      "          | Val   Loss: 1.0535 | Acc: 0.6850\n",
      "          | ✅ New best model saved to 'compressed_model_epsilon_0.7_best_model.pt'\n"
     ]
    },
    {
     "name": "stderr",
     "output_type": "stream",
     "text": [
      "                                                               "
     ]
    },
    {
     "name": "stdout",
     "output_type": "stream",
     "text": [
      "Epoch   5 | Train Loss: 0.7948 | Acc: 0.7456\n",
      "          | Val   Loss: 0.9522 | Acc: 0.7026\n",
      "          | ✅ New best model saved to 'compressed_model_epsilon_0.7_best_model.pt'\n"
     ]
    },
    {
     "name": "stderr",
     "output_type": "stream",
     "text": [
      "                                                               "
     ]
    },
    {
     "name": "stdout",
     "output_type": "stream",
     "text": [
      "Epoch   6 | Train Loss: 0.7348 | Acc: 0.7683\n",
      "          | Val   Loss: 1.0356 | Acc: 0.7174\n",
      "          | No improvement for 1 epoch(s)\n"
     ]
    },
    {
     "name": "stderr",
     "output_type": "stream",
     "text": [
      "                                                               "
     ]
    },
    {
     "name": "stdout",
     "output_type": "stream",
     "text": [
      "Epoch   7 | Train Loss: 0.6766 | Acc: 0.7870\n",
      "          | Val   Loss: 0.8800 | Acc: 0.7318\n",
      "          | ✅ New best model saved to 'compressed_model_epsilon_0.7_best_model.pt'\n"
     ]
    },
    {
     "name": "stderr",
     "output_type": "stream",
     "text": [
      "                                                               "
     ]
    },
    {
     "name": "stdout",
     "output_type": "stream",
     "text": [
      "Epoch   8 | Train Loss: 0.6343 | Acc: 0.8021\n",
      "          | Val   Loss: 0.9950 | Acc: 0.7582\n",
      "          | No improvement for 1 epoch(s)\n"
     ]
    },
    {
     "name": "stderr",
     "output_type": "stream",
     "text": [
      "                                                               "
     ]
    },
    {
     "name": "stdout",
     "output_type": "stream",
     "text": [
      "Epoch   9 | Train Loss: 0.5789 | Acc: 0.8192\n",
      "          | Val   Loss: 0.9425 | Acc: 0.7634\n",
      "          | No improvement for 2 epoch(s)\n"
     ]
    },
    {
     "name": "stderr",
     "output_type": "stream",
     "text": [
      "                                                                "
     ]
    },
    {
     "name": "stdout",
     "output_type": "stream",
     "text": [
      "Epoch  10 | Train Loss: 0.5412 | Acc: 0.8330\n",
      "          | Val   Loss: 0.9732 | Acc: 0.7606\n",
      "          | No improvement for 3 epoch(s)\n",
      "🛑 Early stopping triggered after 3 epochs without improvement.\n",
      "Training complete.\n"
     ]
    },
    {
     "name": "stderr",
     "output_type": "stream",
     "text": [
      "Evaluating: 100%|██████████| 79/79 [00:06<00:00, 12.70batch/s]\n",
      "Measuring latency: 100%|██████████| 50/50 [00:03<00:00, 14.66it/s]\n"
     ]
    },
    {
     "name": "stdout",
     "output_type": "stream",
     "text": [
      "Compressed -> acc after tuning: 75.46%, latency: 64.04 ± 0.06 ms, size: 4.16MB\n",
      "\n",
      "Compressing model with epsilon = 0.8...\n"
     ]
    },
    {
     "name": "stderr",
     "output_type": "stream",
     "text": [
      "Evaluating: 100%|██████████| 79/79 [00:06<00:00, 12.67batch/s]\n"
     ]
    },
    {
     "name": "stdout",
     "output_type": "stream",
     "text": [
      "Old size: 23467712, New size: 482213, Parameter count reduction: 22985499\n",
      "Compressed -> acc before tuning: 10.00%\n"
     ]
    },
    {
     "name": "stderr",
     "output_type": "stream",
     "text": [
      "                                                               "
     ]
    },
    {
     "name": "stdout",
     "output_type": "stream",
     "text": [
      "Epoch   1 | Train Loss: 1.5837 | Acc: 0.3614\n",
      "          | Val   Loss: 1.4618 | Acc: 0.3984\n",
      "          | ✅ New best model saved to 'compressed_model_epsilon_0.8_best_model.pt'\n"
     ]
    },
    {
     "name": "stderr",
     "output_type": "stream",
     "text": [
      "                                                               "
     ]
    },
    {
     "name": "stdout",
     "output_type": "stream",
     "text": [
      "Epoch   2 | Train Loss: 1.3018 | Acc: 0.5002\n",
      "          | Val   Loss: 2.1693 | Acc: 0.4306\n",
      "          | No improvement for 1 epoch(s)\n"
     ]
    },
    {
     "name": "stderr",
     "output_type": "stream",
     "text": [
      "                                                               "
     ]
    },
    {
     "name": "stdout",
     "output_type": "stream",
     "text": [
      "Epoch   3 | Train Loss: 1.1738 | Acc: 0.5642\n",
      "          | Val   Loss: 1.2146 | Acc: 0.5266\n",
      "          | ✅ New best model saved to 'compressed_model_epsilon_0.8_best_model.pt'\n"
     ]
    },
    {
     "name": "stderr",
     "output_type": "stream",
     "text": [
      "                                                               "
     ]
    },
    {
     "name": "stdout",
     "output_type": "stream",
     "text": [
      "Epoch   4 | Train Loss: 1.0855 | Acc: 0.5970\n",
      "          | Val   Loss: 1.1796 | Acc: 0.5838\n",
      "          | ✅ New best model saved to 'compressed_model_epsilon_0.8_best_model.pt'\n"
     ]
    },
    {
     "name": "stderr",
     "output_type": "stream",
     "text": [
      "                                                               "
     ]
    },
    {
     "name": "stdout",
     "output_type": "stream",
     "text": [
      "Epoch   5 | Train Loss: 1.0291 | Acc: 0.6253\n",
      "          | Val   Loss: 1.0823 | Acc: 0.6046\n",
      "          | ✅ New best model saved to 'compressed_model_epsilon_0.8_best_model.pt'\n"
     ]
    },
    {
     "name": "stderr",
     "output_type": "stream",
     "text": [
      "                                                               "
     ]
    },
    {
     "name": "stdout",
     "output_type": "stream",
     "text": [
      "Epoch   6 | Train Loss: 0.9722 | Acc: 0.6462\n",
      "          | Val   Loss: 1.1848 | Acc: 0.5826\n",
      "          | No improvement for 1 epoch(s)\n"
     ]
    },
    {
     "name": "stderr",
     "output_type": "stream",
     "text": [
      "                                                               "
     ]
    },
    {
     "name": "stdout",
     "output_type": "stream",
     "text": [
      "Epoch   7 | Train Loss: 0.9174 | Acc: 0.6678\n",
      "          | Val   Loss: 1.1866 | Acc: 0.6330\n",
      "          | No improvement for 2 epoch(s)\n"
     ]
    },
    {
     "name": "stderr",
     "output_type": "stream",
     "text": [
      "                                                               "
     ]
    },
    {
     "name": "stdout",
     "output_type": "stream",
     "text": [
      "Epoch   8 | Train Loss: 0.8772 | Acc: 0.6857\n",
      "          | Val   Loss: 0.9860 | Acc: 0.6580\n",
      "          | ✅ New best model saved to 'compressed_model_epsilon_0.8_best_model.pt'\n"
     ]
    },
    {
     "name": "stderr",
     "output_type": "stream",
     "text": [
      "                                                               "
     ]
    },
    {
     "name": "stdout",
     "output_type": "stream",
     "text": [
      "Epoch   9 | Train Loss: 0.8345 | Acc: 0.7020\n",
      "          | Val   Loss: 1.0079 | Acc: 0.6666\n",
      "          | No improvement for 1 epoch(s)\n"
     ]
    },
    {
     "name": "stderr",
     "output_type": "stream",
     "text": [
      "                                                                "
     ]
    },
    {
     "name": "stdout",
     "output_type": "stream",
     "text": [
      "Epoch  10 | Train Loss: 0.7959 | Acc: 0.7177\n",
      "          | Val   Loss: 1.2625 | Acc: 0.6650\n",
      "          | No improvement for 2 epoch(s)\n"
     ]
    },
    {
     "name": "stderr",
     "output_type": "stream",
     "text": [
      "                                                                "
     ]
    },
    {
     "name": "stdout",
     "output_type": "stream",
     "text": [
      "Epoch  11 | Train Loss: 0.7693 | Acc: 0.7313\n",
      "          | Val   Loss: 1.1046 | Acc: 0.6966\n",
      "          | No improvement for 3 epoch(s)\n",
      "🛑 Early stopping triggered after 3 epochs without improvement.\n",
      "Training complete.\n"
     ]
    },
    {
     "name": "stderr",
     "output_type": "stream",
     "text": [
      "Evaluating: 100%|██████████| 79/79 [00:06<00:00, 12.78batch/s]\n",
      "Measuring latency: 100%|██████████| 50/50 [00:03<00:00, 14.79it/s]\n"
     ]
    },
    {
     "name": "stdout",
     "output_type": "stream",
     "text": [
      "Compressed -> acc after tuning: 68.11%, latency: 63.51 ± 0.07 ms, size: 2.46MB\n",
      "\n",
      "Compressing model with epsilon = 0.9...\n"
     ]
    },
    {
     "name": "stderr",
     "output_type": "stream",
     "text": [
      "Evaluating: 100%|██████████| 79/79 [00:06<00:00, 12.23batch/s]\n"
     ]
    },
    {
     "name": "stdout",
     "output_type": "stream",
     "text": [
      "Old size: 23467712, New size: 210624, Parameter count reduction: 23257088\n",
      "Compressed -> acc before tuning: 10.00%\n"
     ]
    },
    {
     "name": "stderr",
     "output_type": "stream",
     "text": [
      "                                                               "
     ]
    },
    {
     "name": "stdout",
     "output_type": "stream",
     "text": [
      "Epoch   1 | Train Loss: 1.9139 | Acc: 0.1928\n",
      "          | Val   Loss: 1.8109 | Acc: 0.2346\n",
      "          | ✅ New best model saved to 'compressed_model_epsilon_0.9_best_model.pt'\n"
     ]
    },
    {
     "name": "stderr",
     "output_type": "stream",
     "text": [
      "                                                               "
     ]
    },
    {
     "name": "stdout",
     "output_type": "stream",
     "text": [
      "Epoch   2 | Train Loss: 1.7823 | Acc: 0.2393\n",
      "          | Val   Loss: 2.1895 | Acc: 0.2314\n",
      "          | No improvement for 1 epoch(s)\n"
     ]
    },
    {
     "name": "stderr",
     "output_type": "stream",
     "text": [
      "                                                               "
     ]
    },
    {
     "name": "stdout",
     "output_type": "stream",
     "text": [
      "Epoch   3 | Train Loss: 1.7274 | Acc: 0.2713\n",
      "          | Val   Loss: 1.7329 | Acc: 0.2652\n",
      "          | ✅ New best model saved to 'compressed_model_epsilon_0.9_best_model.pt'\n"
     ]
    },
    {
     "name": "stderr",
     "output_type": "stream",
     "text": [
      "                                                               "
     ]
    },
    {
     "name": "stdout",
     "output_type": "stream",
     "text": [
      "Epoch   4 | Train Loss: 1.6910 | Acc: 0.2885\n",
      "          | Val   Loss: 1.6790 | Acc: 0.2984\n",
      "          | ✅ New best model saved to 'compressed_model_epsilon_0.9_best_model.pt'\n"
     ]
    },
    {
     "name": "stderr",
     "output_type": "stream",
     "text": [
      "                                                               "
     ]
    },
    {
     "name": "stdout",
     "output_type": "stream",
     "text": [
      "Epoch   5 | Train Loss: 1.6520 | Acc: 0.3144\n",
      "          | Val   Loss: 1.6842 | Acc: 0.2912\n",
      "          | No improvement for 1 epoch(s)\n"
     ]
    },
    {
     "name": "stderr",
     "output_type": "stream",
     "text": [
      "                                                               "
     ]
    },
    {
     "name": "stdout",
     "output_type": "stream",
     "text": [
      "Epoch   6 | Train Loss: 1.6225 | Acc: 0.3276\n",
      "          | Val   Loss: 1.6374 | Acc: 0.3094\n",
      "          | ✅ New best model saved to 'compressed_model_epsilon_0.9_best_model.pt'\n"
     ]
    },
    {
     "name": "stderr",
     "output_type": "stream",
     "text": [
      "                                                               "
     ]
    },
    {
     "name": "stdout",
     "output_type": "stream",
     "text": [
      "Epoch   7 | Train Loss: 1.5886 | Acc: 0.3424\n",
      "          | Val   Loss: 1.6002 | Acc: 0.3298\n",
      "          | ✅ New best model saved to 'compressed_model_epsilon_0.9_best_model.pt'\n"
     ]
    },
    {
     "name": "stderr",
     "output_type": "stream",
     "text": [
      "                                                               "
     ]
    },
    {
     "name": "stdout",
     "output_type": "stream",
     "text": [
      "Epoch   8 | Train Loss: 1.5730 | Acc: 0.3500\n",
      "          | Val   Loss: 1.5541 | Acc: 0.3568\n",
      "          | ✅ New best model saved to 'compressed_model_epsilon_0.9_best_model.pt'\n"
     ]
    },
    {
     "name": "stderr",
     "output_type": "stream",
     "text": [
      "                                                               "
     ]
    },
    {
     "name": "stdout",
     "output_type": "stream",
     "text": [
      "Epoch   9 | Train Loss: 1.5557 | Acc: 0.3587\n",
      "          | Val   Loss: 1.5770 | Acc: 0.3556\n",
      "          | No improvement for 1 epoch(s)\n"
     ]
    },
    {
     "name": "stderr",
     "output_type": "stream",
     "text": [
      "                                                                "
     ]
    },
    {
     "name": "stdout",
     "output_type": "stream",
     "text": [
      "Epoch  10 | Train Loss: 1.5352 | Acc: 0.3704\n",
      "          | Val   Loss: 1.5570 | Acc: 0.3484\n",
      "          | No improvement for 2 epoch(s)\n"
     ]
    },
    {
     "name": "stderr",
     "output_type": "stream",
     "text": [
      "                                                                "
     ]
    },
    {
     "name": "stdout",
     "output_type": "stream",
     "text": [
      "Epoch  11 | Train Loss: 1.5219 | Acc: 0.3750\n",
      "          | Val   Loss: 1.6016 | Acc: 0.3384\n",
      "          | No improvement for 3 epoch(s)\n",
      "🛑 Early stopping triggered after 3 epochs without improvement.\n",
      "Training complete.\n"
     ]
    },
    {
     "name": "stderr",
     "output_type": "stream",
     "text": [
      "Evaluating: 100%|██████████| 79/79 [00:06<00:00, 12.38batch/s]\n",
      "Measuring latency: 100%|██████████| 50/50 [00:03<00:00, 14.22it/s]\n"
     ]
    },
    {
     "name": "stdout",
     "output_type": "stream",
     "text": [
      "Compressed -> acc after tuning: 35.11%, latency: 66.13 ± 0.06 ms, size: 1.37MB\n"
     ]
    }
   ],
   "source": [
    "# Evaluate and print metrics for the original model\n",
    "acc_orig = evaluate(original_model, test_loader, device)\n",
    "example_input = torch.rand(128, 3, 32, 32).to(device)\n",
    "orig_latency_mu, orig_latency_std = estimate_latency(original_model, example_input)\n",
    "size_orig = get_size(original_model)\n",
    "print(f\"Original -> acc: {100*acc_orig:.2f}%, latency: {orig_latency_mu:.2f} ± {orig_latency_std:.2f} ms, size: {size_orig:.2f}MB\")\n",
    "\n",
    "# Iterate over epsilon values\n",
    "for epsilon in [round(x * 0.1, 2) for x in range(1, 10)]:\n",
    "    print(f\"\\nCompressing model with epsilon = {epsilon}...\")\n",
    "    \n",
    "    # Compress the model\n",
    "    compressed_model, total_old_size, total_new_size = compress_model(original_model, epsilon=epsilon)\n",
    "    \n",
    "    # Evaluate compressed model before fine-tuning\n",
    "    acc_comp = evaluate(compressed_model, test_loader, device)\n",
    "    print(f\"Old size: {total_old_size}, New size: {total_new_size}, Parameter count reduction: {total_old_size-total_new_size}\")\n",
    "    print(f\"Compressed -> acc before tuning: {100*acc_comp:.2f}%\")\n",
    "    \n",
    "    # Fine-tune the compressed model\n",
    "    optimizer = torch.optim.Adam(compressed_model.parameters(), lr=1e-3)\n",
    "    criterion = torch.nn.CrossEntropyLoss()\n",
    "    scheduler = torch.optim.lr_scheduler.ReduceLROnPlateau(optimizer, mode='min', patience=2, factor=0.5)\n",
    "    \n",
    "    train(\n",
    "        compressed_model,\n",
    "        train_loader,\n",
    "        val_loader,\n",
    "        optimizer,\n",
    "        criterion,\n",
    "        device,\n",
    "        epochs=50,\n",
    "        scheduler=scheduler,\n",
    "        grad_clip=1.0,\n",
    "        save_path=f\"compressed_model_epsilon_{epsilon}_best_model.pt\",\n",
    "        early_stopping_patience=3,\n",
    "        resume=False,\n",
    "    )\n",
    "    \n",
    "    # Evaluate compressed model after fine-tuning\n",
    "    acc_tuned_comp = evaluate(compressed_model, test_loader, device)\n",
    "    comp_latency_mu, comp_latency_std = estimate_latency(compressed_model, example_input)\n",
    "    size_comp = get_size(compressed_model)\n",
    "    \n",
    "    # Print metrics for the fine-tuned compressed model\n",
    "    print(f\"Compressed -> acc after tuning: {100*acc_tuned_comp:.2f}%, latency: {comp_latency_mu:.2f} ± {comp_latency_std:.2f} ms, size: {size_comp:.2f}MB\")"
   ]
  },
  {
   "cell_type": "code",
   "execution_count": null,
   "id": "a1ebfc0b-eca6-4720-b40b-3ec5cc4dc547",
   "metadata": {},
   "outputs": [],
   "source": []
  }
 ],
 "metadata": {
  "kernelspec": {
   "display_name": "Python 3 (ipykernel)",
   "language": "python",
   "name": "python3"
  },
  "language_info": {
   "codemirror_mode": {
    "name": "ipython",
    "version": 3
   },
   "file_extension": ".py",
   "mimetype": "text/x-python",
   "name": "python",
   "nbconvert_exporter": "python",
   "pygments_lexer": "ipython3",
   "version": "3.11.11"
  }
 },
 "nbformat": 4,
 "nbformat_minor": 5
}
