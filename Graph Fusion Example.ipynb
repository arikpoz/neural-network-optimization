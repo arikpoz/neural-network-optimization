{
 "cells": [
  {
   "cell_type": "markdown",
   "id": "55e877b5",
   "metadata": {},
   "source": [
    "# Benchmarking Fused vs Unfused Models\n",
    "\n",
    "In this notebook, we will compare the performance of the unfused and fused models using a benchmarking function. This will help us understand the speed improvements achieved by fusing the convolution, batch normalization, and ReLU layers.\n",
    "\n",
    "Note: Graph fusion is a technique typically employed automatically by tools like `torch.compile` and others. The demonstration below is intended to showcase the performance boost of a specific fusion, without addressing deployment tools.\n"
   ]
  },
  {
   "cell_type": "markdown",
   "id": "1efbe64b",
   "metadata": {},
   "source": [
    "## Defines a dummy unfused network"
   ]
  },
  {
   "cell_type": "code",
   "execution_count": null,
   "id": "b297be45",
   "metadata": {},
   "outputs": [],
   "source": [
    "import torch\n",
    "import torch.nn as nn\n",
    "\n",
    "class UnfusedConvBNReLU(nn.Module):\n",
    "    def __init__(self):\n",
    "        super().__init__()\n",
    "        self.conv = nn.Conv2d(3, 16, kernel_size=3, stride=1, padding=1, bias=True)\n",
    "        self.bn = nn.BatchNorm2d(16)\n",
    "        self.relu = nn.ReLU()\n",
    "\n",
    "    def forward(self, x):\n",
    "        return self.relu(self.bn(self.conv(x)))\n"
   ]
  },
  {
   "cell_type": "markdown",
   "id": "f9b79d31",
   "metadata": {},
   "source": [
    "## Fusion of Layers\n",
    "The `torch.quantization.fuse_modules` function is used to fuse the convolution, batch normalization, and ReLU layers into a single operation. This improves runtime efficiency by reducing the overhead of separate operations.\n",
    "\n",
    "\n"
   ]
  },
  {
   "cell_type": "code",
   "execution_count": null,
   "id": "bf7ccfcd",
   "metadata": {},
   "outputs": [],
   "source": [
    "model = UnfusedConvBNReLU().eval()\n",
    "fused = torch.quantization.fuse_modules(model, [[\"conv\", \"bn\", \"relu\"]], inplace=False).eval()\n",
    "\n",
    "input_tensor = torch.randn(1, 3, 224, 224)\n",
    "with torch.no_grad():\n",
    "    output1 = model(input_tensor)\n",
    "    output2 = fused(input_tensor)\n",
    "\n",
    "print(torch.allclose(output1, output2, atol=1e-5))  # Should print: True"
   ]
  },
  {
   "cell_type": "markdown",
   "id": "e357fef5",
   "metadata": {},
   "source": [
    "## Validation of Fusion\n",
    "The outputs of the unfused and fused models are compared using torch.allclose to ensure they produce nearly identical results (within a tolerance of 1e-5).\n"
   ]
  },
  {
   "cell_type": "code",
   "execution_count": null,
   "id": "f25ad684",
   "metadata": {},
   "outputs": [],
   "source": [
    "import time\n",
    "\n",
    "model = model.cuda()\n",
    "fused = fused.cuda()\n",
    "input_tensor = input_tensor.cuda()\n",
    "\n",
    "def benchmark(model, name):\n",
    "    model.eval()\n",
    "    with torch.no_grad():\n",
    "        # Warmup\n",
    "        for _ in range(100):\n",
    "            model(input_tensor)\n",
    "        # Timing\n",
    "        start = time.time()\n",
    "        for _ in range(1000):\n",
    "            model(input_tensor)\n",
    "        torch.cuda.synchronize()\n",
    "        end = time.time()\n",
    "        print(f\"{name}: {(end - start)*1000:.2f} ms\")\n",
    "\n",
    "benchmark(model, \"Unfused\")\n",
    "benchmark(fused, \"Fused\")\n"
   ]
  }
 ],
 "metadata": {
  "language_info": {
   "name": "python"
  }
 },
 "nbformat": 4,
 "nbformat_minor": 5
}
