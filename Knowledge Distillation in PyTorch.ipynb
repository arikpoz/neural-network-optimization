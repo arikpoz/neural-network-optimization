{
 "cells": [
  {
   "cell_type": "markdown",
   "metadata": {
    "id": "KaA5o4SVlYp4"
   },
   "source": [
    "# Knowledge Distillation in PyTorch\n",
    "\n"
   ]
  },
  {
   "cell_type": "markdown",
   "metadata": {
    "id": "BmEt_Jt_mN3H"
   },
   "source": [
    "## Basic Setup\n"
   ]
  },
  {
   "cell_type": "code",
   "execution_count": null,
   "metadata": {
    "colab": {
     "base_uri": "https://localhost:8080/"
    },
    "id": "v9pAalyPmPNP",
    "outputId": "35bb8d4d-636a-46f5-ddbe-97bef9975061"
   },
   "outputs": [],
   "source": [
    "import os\n",
    "import time\n",
    "import torch\n",
    "import torch.nn as nn\n",
    "import torch.nn.functional as F\n",
    "from torch.utils.data import random_split, DataLoader\n",
    "from torch.optim.lr_scheduler import ReduceLROnPlateau\n",
    "from torchvision import models\n",
    "import torchvision.transforms as transforms\n",
    "from torchvision.datasets import CIFAR10\n",
    "\n",
    "print(f\"PyTorch Version: {torch.__version__}\")\n",
    "device = torch.device(\"cuda\" if torch.cuda.is_available() else \"cpu\")\n",
    "print(f\"Device used: {device.type}\")"
   ]
  },
  {
   "cell_type": "markdown",
   "metadata": {
    "id": "NB-mvTJSllp5"
   },
   "source": [
    "## Load Dataset"
   ]
  },
  {
   "cell_type": "code",
   "execution_count": null,
   "metadata": {
    "colab": {
     "base_uri": "https://localhost:8080/"
    },
    "id": "ovNSIvy1lMgy",
    "outputId": "0d3253d0-f7c2-45e1-9997-9654ef190479"
   },
   "outputs": [],
   "source": [
    "# define transform for CIFAR-10 dataset\n",
    "transform = transforms.Compose([\n",
    "    transforms.ToTensor(),\n",
    "    transforms.Normalize(mean=[0.4914, 0.4822, 0.4465],  # CIFAR-10 means\n",
    "                         std=[0.2023, 0.1994, 0.2010])\n",
    "])\n",
    "\n",
    "# load full CIFAR-10 train set\n",
    "full_trainset = CIFAR10(root='./data', train=True, download=True, transform=transform)\n",
    "\n",
    "# calculate split sizes for train and validation sets\n",
    "train_size = int(0.9 * len(full_trainset))\n",
    "val_size = len(full_trainset) - train_size\n",
    "\n",
    "# perform split\n",
    "train_subset, val_subset = random_split(full_trainset, [train_size, val_size])\n",
    "print(f\"Train samples: {train_size}\")\n",
    "print(f\"Validation samples: {val_size}\")\n",
    "\n",
    "# create DataLoaders\n",
    "train_loader = DataLoader(train_subset, batch_size=128, shuffle=True)\n",
    "val_loader = DataLoader(val_subset, batch_size=128, shuffle=False)\n",
    "\n",
    "# CIFAR-10 test set and loader for accuracy evaluation\n",
    "test_set = CIFAR10(root='./data', train=False, download=True, transform=transform)\n",
    "test_loader = DataLoader(test_set, batch_size=128, shuffle=False)\n",
    "print(f\"Test samples: {len(test_set)}\")\n"
   ]
  },
  {
   "cell_type": "markdown",
   "metadata": {
    "id": "-g0mwY2lloz6"
   },
   "source": [
    "## Define Models"
   ]
  },
  {
   "cell_type": "code",
   "execution_count": null,
   "metadata": {
    "id": "7X5j6K6rBZEX"
   },
   "outputs": [],
   "source": [
    "def setup_models(device):\n",
    "    \"\"\"\n",
    "    Setup teacher and student wrapper\n",
    "    \"\"\"\n",
    "\n",
    "    # teacher: ResNet50 pretrained on ImageNet, re-headed for CIFAR-10\n",
    "    teacher = models.resnet50(weights=models.ResNet50_Weights.IMAGENET1K_V2)\n",
    "    teacher.fc = nn.Linear(2048, 10)\n",
    "    teacher = teacher.to(device)\n",
    "\n",
    "    # student: ResNet18 without pretrained weights\n",
    "    student = models.resnet18(weights=None)\n",
    "    student.fc = nn.Linear(512, 10) \n",
    "    student = student.to(device) \n",
    "\n",
    "    # define the intermediate feature channels for both teacher and student\n",
    "    student_channels = [64, 128, 256, 512] \n",
    "    teacher_channels = [256, 512, 1024, 2048]\n",
    "\n",
    "    # create projection layers to align teacher's feature maps with student's feature maps\n",
    "    proj_layers = [\n",
    "        FeatureProjector(in_c, out_c).to(device)\n",
    "        for in_c, out_c in zip(student_channels, teacher_channels)\n",
    "    ]\n",
    "\n",
    "    # wrap the student model with the projection layers\n",
    "    student_wrapper = StudentWrapper(student, proj_layers).to(device)\n",
    "\n",
    "    return teacher, student_wrapper\n",
    "\n",
    "class FeatureProjector(nn.Module):\n",
    "    \"\"\"\n",
    "    Feature projector to match student -> teacher feature shapes\n",
    "    \"\"\"\n",
    "\n",
    "    def __init__(self, in_channels, out_channels):\n",
    "        super().__init__()\n",
    "\n",
    "        # define a 1x1 convolutional layer to project feature maps\n",
    "        self.proj = nn.Conv2d(in_channels, out_channels, kernel_size=1)\n",
    "\n",
    "    def forward(self, x, target_shape):\n",
    "        \n",
    "        # check if the spatial dimensions of the input match the target shape\n",
    "        if x.shape[2:] != target_shape[2:]:\n",
    "        \n",
    "            # adjust spatial dimensions using adaptive average pooling\n",
    "            x = F.adaptive_avg_pool2d(x, output_size=target_shape[2:])\n",
    "\n",
    "        # apply the projection layer to transform feature maps\n",
    "        return self.proj(x)\n",
    "\n",
    "class StudentWrapper(nn.Module):\n",
    "    \"\"\"\n",
    "    Wrapper for the student model with projection layers\n",
    "    \"\"\"\n",
    "\n",
    "    def __init__(self, student_model, proj_layers):\n",
    "        super().__init__()\n",
    "\n",
    "        # store student model\n",
    "        self.model = student_model  \n",
    "\n",
    "        # store projection layers for feature alignment\n",
    "        self.projections = nn.ModuleList(proj_layers)  \n",
    "\n",
    "    def forward(self, x):\n",
    "        \n",
    "        # collect intermediate features from ResNet blocks\n",
    "        features = []  \n",
    "        x = self.model.conv1(x)\n",
    "        x = self.model.bn1(x)\n",
    "        x = self.model.relu(x)\n",
    "        x = self.model.maxpool(x)\n",
    "        for i, block in enumerate([self.model.layer1, self.model.layer2, self.model.layer3, self.model.layer4]):\n",
    "            # pass through ResNet blocks\n",
    "            x = block(x)  \n",
    "            \n",
    "            # append features from each block\n",
    "            features.append(x)  \n",
    "\n",
    "        # pool the final feature map and compute logits\n",
    "        pooled = F.adaptive_avg_pool2d(x, (1, 1))  \n",
    "        flat = torch.flatten(pooled, 1)  \n",
    "        logits = self.model.fc(flat)  \n",
    "        \n",
    "        return logits, features  \n",
    "\n",
    "    def project_features(self, features, target_shapes):\n",
    "        \"\"\"\n",
    "        Project student features to match the shapes of teacher features.\n",
    "        \"\"\"\n",
    "\n",
    "        return [\n",
    "            proj(s_feat, t_shape)\n",
    "            for s_feat, t_shape, proj in zip(features, target_shapes, self.projections)\n",
    "        ]\n",
    "\n",
    "def extract_teacher_features(model, x, layers=[1, 2, 3, 4]):\n",
    "    \"\"\"\n",
    "    Extract teacher logits and intermediate features\n",
    "    \"\"\"\n",
    "\n",
    "    # collect intermediate features from ResNet blocks\n",
    "    features = []\n",
    "    x = model.conv1(x)\n",
    "    x = model.bn1(x)\n",
    "    x = model.relu(x)\n",
    "    x = model.maxpool(x)\n",
    "    for i, block in enumerate([model.layer1, model.layer2, model.layer3, model.layer4]):\n",
    "        x = block(x)\n",
    "        if (i + 1) in layers:\n",
    "            features.append(x)\n",
    "\n",
    "    # pool the final feature map and compute logits\n",
    "    pooled = F.adaptive_avg_pool2d(x, (1, 1))  # [B, C, 1, 1]\n",
    "    flat = torch.flatten(pooled, 1)            # [B, C]\n",
    "    logits = model.fc(flat)                    # [B, 10]\n",
    "    return logits, features\n",
    "\n",
    "# setup models\n",
    "teacher, student_wrapper = setup_models(device)\n"
   ]
  },
  {
   "cell_type": "markdown",
   "metadata": {},
   "source": [
    "## Evaluation Functions for Size, Latency and Accuracy\n"
   ]
  },
  {
   "cell_type": "code",
   "execution_count": null,
   "metadata": {},
   "outputs": [],
   "source": [
    "def count_params(model):\n",
    "    \"\"\"\n",
    "    Function to count trainable parameters\n",
    "    \"\"\"\n",
    "\n",
    "    return sum(p.numel() for p in model.parameters() if p.requires_grad)\n",
    "\n",
    "def measure_latency(model, input_size=(1, 3, 32, 32), device='cuda', repetitions=50):\n",
    "    \"\"\"\n",
    "    Function to measure average inference latency over multiple runs\n",
    "    \"\"\"\n",
    "\n",
    "    model.eval()\n",
    "    inputs = torch.randn(input_size).to(device)\n",
    "    with torch.no_grad():\n",
    "        # Warm-up\n",
    "        for _ in range(10):\n",
    "            _ = model(inputs)\n",
    "        # Measure\n",
    "        times = []\n",
    "        for _ in range(repetitions):\n",
    "            start = time.time()\n",
    "            _ = model(inputs)\n",
    "            end = time.time()\n",
    "            times.append(end - start)\n",
    "    return (sum(times) / repetitions) * 1000  # ms\n",
    "\n",
    "def evaluate_accuracy(model, dataloader):\n",
    "    \"\"\"\n",
    "    Evaluate accuracy given model and loader\n",
    "    \"\"\"\n",
    "\n",
    "    model.eval()\n",
    "    model.to(device)\n",
    "    correct, total = 0, 0\n",
    "    with torch.no_grad():\n",
    "        for inputs, labels in dataloader:\n",
    "            inputs, labels = inputs.to(device), labels.to(device)\n",
    "            outputs = model(inputs)\n",
    "            preds = outputs.argmax(dim=1)\n",
    "            correct += (preds == labels).sum().item()\n",
    "            total += labels.size(0)\n",
    "    accuracy = correct / total\n",
    "    return accuracy\n"
   ]
  },
  {
   "cell_type": "markdown",
   "metadata": {
    "id": "dx1Fk_sKE3R2"
   },
   "source": [
    "## Fine-tuning the Teacher"
   ]
  },
  {
   "cell_type": "code",
   "execution_count": null,
   "metadata": {
    "id": "Hl60aa5NE3R2"
   },
   "outputs": [],
   "source": [
    "def train_teacher(teacher, loader, epochs, tag, lr=1e-3, save_path=\"model.pth\"):\n",
    "    \"\"\"\n",
    "    Trains a model with Adam and cross-entropy loss.\n",
    "    Loads from save_path if it exists.\n",
    "    \"\"\"\n",
    "\n",
    "    if os.path.exists(save_path):\n",
    "        print(f\"Model already trained. Loading from {save_path}\")\n",
    "        teacher.load_state_dict(torch.load(save_path))\n",
    "        return teacher\n",
    "\n",
    "    # no saved model found. training from given model state\n",
    "\n",
    "    optimizer = torch.optim.Adam(teacher.parameters(), lr=1e-3)\n",
    "    teacher.train()\n",
    "\n",
    "    for epoch in range(epochs):\n",
    "        for inputs, labels in loader:\n",
    "            inputs, labels = inputs.to(device), labels.to(device)\n",
    "            logits, _ = extract_teacher_features(teacher, inputs)\n",
    "\n",
    "            loss = F.cross_entropy(logits, labels)\n",
    "            optimizer.zero_grad()\n",
    "            loss.backward()\n",
    "            optimizer.step()\n",
    "\n",
    "        accuracy = evaluate_accuracy(teacher, val_loader)\n",
    "        print(f\"({tag})\\tEpoch {epoch+1}: loss={loss.item():.4f}, Accuracy (validation): {accuracy*100:.2f}%\")\n",
    "        teacher.train()\n",
    "\n",
    "    if save_path:\n",
    "        torch.save(teacher.state_dict(), save_path)\n",
    "        print(f\"Training complete. Model saved to {save_path}\")\n",
    "\n",
    "    return teacher\n",
    "\n",
    "# train the teacher on CIFAR-10\n",
    "teacher = train_teacher(teacher, train_loader, epochs=25, tag=\"Fine-tuning teacher\", save_path=\"tuned_pretrained_resnet50_on_CIFAR10.pth\")\n"
   ]
  },
  {
   "cell_type": "markdown",
   "metadata": {
    "id": "OYQ-AOinlrET"
   },
   "source": [
    "## Training the Student via Distillation"
   ]
  },
  {
   "cell_type": "code",
   "execution_count": null,
   "metadata": {
    "id": "K6Qv15vVltWi"
   },
   "outputs": [],
   "source": [
    "def distillation_loss(student_logits, teacher_logits, targets, T=5.0, alpha=0.7):\n",
    "    \"\"\"\n",
    "    Combine soft and hard targets using KL divergence and cross-entropy\n",
    "    T = temperature, alpha = weighting between soft and hard losses\n",
    "    \"\"\"\n",
    "\n",
    "    # soft target loss (teacher softmax vs student softmax)\n",
    "    soft_targets = F.kl_div(\n",
    "        F.log_softmax(student_logits / T, dim=1),\n",
    "        F.softmax(teacher_logits / T, dim=1),\n",
    "        reduction='batchmean'\n",
    "    ) * (T * T)\n",
    "\n",
    "    # hard label loss\n",
    "    hard_loss = F.cross_entropy(student_logits, targets)\n",
    "    return alpha * soft_targets + (1 - alpha) * hard_loss\n",
    "\n",
    "def student_training_step(inputs, labels, teacher, student_wrapper, optimizer, device):\n",
    "    \"\"\"\n",
    "    Perform a single training step for the student model using knowledge distillation.\n",
    "    \"\"\"\n",
    "\n",
    "    inputs, labels = inputs.to(device), labels.to(device)\n",
    "\n",
    "    # extract teacher logits and intermediate features\n",
    "    with torch.no_grad():\n",
    "        teacher_logits, teacher_feats = extract_teacher_features(teacher, inputs)\n",
    "\n",
    "    # extract student logits and intermediate features\n",
    "    student_logits, student_feats = student_wrapper(inputs)\n",
    "    projected_feats = student_wrapper.project_features(student_feats, [t.shape for t in teacher_feats])\n",
    "    \n",
    "    # calculate loss from features difference\n",
    "    feat_loss = sum(F.mse_loss(p, t.detach()) for p, t in zip(projected_feats, teacher_feats))\n",
    "\n",
    "    # calculate loss from output distribution, and include feature loss\n",
    "    loss = distillation_loss(student_logits, teacher_logits, labels) + 0.1 * feat_loss\n",
    "\n",
    "    # optimize with loss\n",
    "    optimizer.zero_grad()\n",
    "    loss.backward()\n",
    "    optimizer.step()\n",
    "\n",
    "    return loss.item()\n",
    "\n",
    "def train_student(teacher, student_wrapper, dataloader, epochs, save_path=\"student_distilled.pth\"):\n",
    "    \"\"\"\n",
    "    Trains a student model using knowledge distillation from a teacher model.\n",
    "    \"\"\"\n",
    "\n",
    "    # setup optimizer\n",
    "    optimizer = torch.optim.Adam(student_wrapper.parameters(), lr=1e-3)\n",
    "\n",
    "    # train the student using the teacher's output as soft targets\n",
    "    teacher.eval()  \n",
    "\n",
    "    best_val_acc = 0.0\n",
    "    \n",
    "    # reduce LR if validation loss doesn't improve for 3 epochs\n",
    "    scheduler = ReduceLROnPlateau(optimizer, mode='min', factor=0.5, patience=3)\n",
    "\n",
    "    for epoch in range(epochs):\n",
    "        student_wrapper.train()\n",
    "        running_loss = 0\n",
    "        for inputs, labels in dataloader:\n",
    "            loss = student_training_step(inputs, labels, teacher, student_wrapper, optimizer, device)\n",
    "            running_loss += loss\n",
    "\n",
    "        val_acc = evaluate_accuracy(student_wrapper.model, val_loader)\n",
    "        print(f\"[(Training student)\\tEpoch {epoch+1}] Loss = {running_loss/len(dataloader):.4f} | Val Acc = {val_acc*100:.2f}%\")\n",
    "        scheduler.step(loss)\n",
    "\n",
    "        # save best checkpoint\n",
    "        if val_acc > best_val_acc:\n",
    "            best_val_acc = val_acc\n",
    "            torch.save(student_wrapper.state_dict(), save_path)\n",
    "            print(\"New best model saved.\")\n",
    "\n",
    "    # load best checkpoint\n",
    "    student_wrapper.load_state_dict(torch.load(save_path))\n",
    "    student = student_wrapper.model\n",
    "\n",
    "    return student\n",
    "\n",
    "# trigger student training\n",
    "student = train_student(teacher, student_wrapper, train_loader, epochs = 25)\n"
   ]
  },
  {
   "cell_type": "markdown",
   "metadata": {
    "id": "W_J2dwzIl1ss"
   },
   "source": [
    "## Model Comparison Code"
   ]
  },
  {
   "cell_type": "code",
   "execution_count": null,
   "metadata": {
    "id": "Ldidj0f_l4P0"
   },
   "outputs": [],
   "source": [
    "# compare size, latency, and accuracy\n",
    "teacher_params = count_params(teacher)\n",
    "student_params = count_params(student)\n",
    "\n",
    "teacher_latency = measure_latency(teacher, device=device)\n",
    "student_latency = measure_latency(student, device=device)\n",
    "\n",
    "teacher_acc = evaluate_accuracy(teacher, test_loader)\n",
    "student_acc = evaluate_accuracy(student, test_loader)\n",
    "\n",
    "print(f\"Teacher Params: {teacher_params / 1e6:.2f}M\")\n",
    "print(f\"Student Params: {student_params / 1e6:.2f}M\")\n",
    "print(f\"Teacher Latency: {teacher_latency:.2f} ms\")\n",
    "print(f\"Student Latency: {student_latency:.2f} ms\")\n",
    "print(f\"Teacher Test Accuracy: {teacher_acc * 100:.2f}%\")\n",
    "print(f\"Student Test Accuracy: {student_acc * 100:.2f}%\")"
   ]
  },
  {
   "cell_type": "markdown",
   "metadata": {},
   "source": [
    "## Training a baseline student (ResNet18 from scratch)"
   ]
  },
  {
   "cell_type": "code",
   "execution_count": null,
   "metadata": {
    "id": "HYg6HZDivYK1"
   },
   "outputs": [],
   "source": [
    "# define baseline student: ResNet18 training from scratch on its own, re-headed for CIFAR-10\n",
    "baseline_student = models.resnet18(weights=None)\n",
    "baseline_student.fc = nn.Linear(512, 10).to(device)\n",
    "baseline_student = baseline_student.to(device)\n",
    "\n",
    "# Train the baseline student on CIFAR-10\n",
    "baseline_student = train_teacher(baseline_student, train_loader, epochs=25, tag=\"baseline-student\", save_path=\"baseline_student.pth\")\n",
    "\n",
    "# Evaluate baseline student\n",
    "baseline_student_acc = evaluate_accuracy(baseline_student, test_loader)\n",
    "print(f\"\\nBaseline Student Test Accuracy: {baseline_student_acc * 100:.2f}%\")\n"
   ]
  }
 ],
 "metadata": {
  "accelerator": "GPU",
  "colab": {
   "gpuType": "T4",
   "provenance": []
  },
  "kernelspec": {
   "display_name": "Python 3 (ipykernel)",
   "language": "python",
   "name": "python3"
  },
  "language_info": {
   "codemirror_mode": {
    "name": "ipython",
    "version": 3
   },
   "file_extension": ".py",
   "mimetype": "text/x-python",
   "name": "python",
   "nbconvert_exporter": "python",
   "pygments_lexer": "ipython3",
   "version": "3.11.11"
  }
 },
 "nbformat": 4,
 "nbformat_minor": 4
}
